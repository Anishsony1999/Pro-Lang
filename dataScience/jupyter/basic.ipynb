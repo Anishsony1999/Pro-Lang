{
 "cells": [
  {
   "cell_type": "markdown",
   "id": "b30a6789",
   "metadata": {},
   "source": [
    "Leason 1"
   ]
  }
 ],
 "metadata": {
  "language_info": {
   "name": "python"
  }
 },
 "nbformat": 4,
 "nbformat_minor": 5
}
